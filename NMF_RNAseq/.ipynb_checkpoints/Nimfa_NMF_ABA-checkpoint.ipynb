{
 "cells": [
  {
   "cell_type": "markdown",
   "id": "9f33ef1c",
   "metadata": {},
   "source": [
    "# Non-negative matrix factorization with RNASeq data\n",
    "\n",
    "## Introduction\n",
    "\n",
    "Non-negative matrix factorization is an ensemble of methods that approximate the data ( in a matrix form ) as a \n",
    "product of two simple, interpretable matrices. \n",
    "\n",
    "It gained prominence after Lee & Seung developed and used an algorithm that automatically identified local features like eyes and noses in facial image datasets. \n",
    "\n",
    "It differs from other factorization methods such as SVD, PCA and ICA in one crucial aspect that gives this method its name. The input matrix it operates on and the two simple factor matrices it yields are all non-negative matrices: None of their elements are negative – they are either zero or positive numbers.\n",
    "\n",
    "In the facial image dataset, images are initially stored as rectangular array of numbers each carrying the grey intensity of individual pixels. These rectangular array corresponding to an image is then unwrapped to form a long, one-dimensional vector.  The vectors so formed from the many images are then combined column-wise to form the input matrix X. As the intensity of the pixels are non-negative numbers, non-negative matrix factorization could be applied to this input matrix X.  The output of the factorization yields two non-negative matrices W and H that when multiplied yield an approximation to the original matrix. This loss of information due to approximation is more than compensated by the fewer number of columns in W (and equal number of rows in H); This fewer basis vectors (as the columns of W are called) combined with the non-negative nature of these matrices allow for comprehension and interpretation of the hidden features of the originally incomprehensible, complex data.\n",
    "\n",
    "Many sophisticated algorithms for non-negative factorization exist that concern themselves with various aspects like speed, accuracy, sparsity of the basis vectors or the h vectors and so on. Here, we will use a method called sparse non-negative matrix factorization due to Park et. al, 2007, that was implemented in Nimfa python library. I will decsribe in brief how we downloaded the raw counts for the RNAseq data and prepared it into a matrix form suitable for factorization by the Nimfa library. \n"
   ]
  },
  {
   "cell_type": "code",
   "execution_count": 1,
   "id": "b06b8f32",
   "metadata": {},
   "outputs": [],
   "source": [
    "%matplotlib inline\n",
    "import nimfa\n",
    "from collections import defaultdict, Counter\n",
    "import numpy as np\n",
    "from matplotlib import pyplot as plt\n",
    "import matplotlib.gridspec as gridspec\n",
    "from sklearn import preprocessing\n",
    "import scipy.cluster.hierarchy as sch"
   ]
  },
  {
   "cell_type": "code",
   "execution_count": 2,
   "id": "93d19f16",
   "metadata": {},
   "outputs": [],
   "source": [
    "import pandas as pd"
   ]
  },
  {
   "cell_type": "code",
   "execution_count": 3,
   "id": "4bd2e2a2",
   "metadata": {},
   "outputs": [],
   "source": [
    "## Reading the count matrix into a data frame\n",
    "df_aba = pd.read_csv(\"aba_mat_vst.csv\")"
   ]
  },
  {
   "cell_type": "code",
   "execution_count": 4,
   "id": "0c03a983",
   "metadata": {},
   "outputs": [],
   "source": [
    "## dropping the first column with the name of the genes\n",
    "df_aba_drop = df_aba.drop(columns=df_aba.columns[0])"
   ]
  },
  {
   "cell_type": "code",
   "execution_count": 5,
   "id": "e3941f39",
   "metadata": {},
   "outputs": [],
   "source": [
    "## converting into a numpy array\n",
    "d_aba = df_aba_drop.to_numpy()"
   ]
  },
  {
   "cell_type": "code",
   "execution_count": 6,
   "id": "44a3faa6",
   "metadata": {},
   "outputs": [],
   "source": [
    "## The dimensions of the array\n",
    "m, n = d_aba.shape"
   ]
  },
  {
   "cell_type": "markdown",
   "id": "86d5059e",
   "metadata": {},
   "source": [
    "## NIMFA package for NMF analysis"
   ]
  },
  {
   "cell_type": "markdown",
   "id": "49218ad4",
   "metadata": {},
   "source": [
    "### Few notes about NIMFA\n",
    "The block of code below shows a typical command from Nimfa library invoked to perform the non-negative matrix factorization. Here, Sparse Non-negative matrix factorization method, Snmf, is called. It tries to produce matrix decompositions with a desired level of sparsity in either of the two matrix factors."
   ]
  },
  {
   "cell_type": "code",
   "execution_count": 7,
   "id": "e947f5a1",
   "metadata": {},
   "outputs": [],
   "source": [
    "## Model description\n",
    "snmf = nimfa.Snmf(d_aba, seed=\"random_vcol\", rank=20, max_iter=100, version='l',\n",
    "                  eta=1., beta=1e-4, i_conv=10, w_min_change=0)\n",
    "## Model fitting\n",
    "snmf_fit = snmf()"
   ]
  },
  {
   "cell_type": "code",
   "execution_count": 8,
   "id": "b097073d",
   "metadata": {},
   "outputs": [],
   "source": [
    "## Accessing the left fator W from the fitted model\n",
    "W = snmf_fit.basis()"
   ]
  },
  {
   "cell_type": "code",
   "execution_count": 9,
   "id": "3efa9609",
   "metadata": {},
   "outputs": [],
   "source": [
    "## Accessing the right factor from the fitted model\n",
    "H = snmf_fit.coef()"
   ]
  },
  {
   "cell_type": "markdown",
   "id": "4ddb7bcf",
   "metadata": {},
   "source": [
    "#### The number of rows of the left factor, W, matches the number of rows of the data matrix. This equals the number of genes in our case. "
   ]
  },
  {
   "cell_type": "code",
   "execution_count": 10,
   "id": "3327d9bf",
   "metadata": {},
   "outputs": [
    {
     "data": {
      "text/plain": [
       "True"
      ]
     },
     "execution_count": 10,
     "metadata": {},
     "output_type": "execute_result"
    }
   ],
   "source": [
    "d_aba.shape[0] == W.shape[0]"
   ]
  },
  {
   "cell_type": "markdown",
   "id": "34e943b1",
   "metadata": {},
   "source": [
    "#### The columns of W equals the number of basis or rank, which we specified in our model description above (equals 20 here)."
   ]
  },
  {
   "cell_type": "code",
   "execution_count": 11,
   "id": "db1d0225",
   "metadata": {},
   "outputs": [
    {
     "data": {
      "text/plain": [
       "(16325, 20)"
      ]
     },
     "execution_count": 11,
     "metadata": {},
     "output_type": "execute_result"
    }
   ],
   "source": [
    "W.shape"
   ]
  },
  {
   "cell_type": "markdown",
   "id": "b081f221",
   "metadata": {},
   "source": [
    "#### The number of columns of the right factor, H, matches the columns of the data matrix. This equals the number of treatments in our case."
   ]
  },
  {
   "cell_type": "code",
   "execution_count": 12,
   "id": "037a8fe2",
   "metadata": {},
   "outputs": [
    {
     "data": {
      "text/plain": [
       "True"
      ]
     },
     "execution_count": 12,
     "metadata": {},
     "output_type": "execute_result"
    }
   ],
   "source": [
    "d_aba.shape[1] == H.shape[1]"
   ]
  },
  {
   "cell_type": "markdown",
   "id": "71c2bfa5",
   "metadata": {},
   "source": [
    "#### The number of rows of H equals the number of basis or rank."
   ]
  },
  {
   "cell_type": "code",
   "execution_count": 13,
   "id": "8c335c28",
   "metadata": {},
   "outputs": [
    {
     "data": {
      "text/plain": [
       "(20, 28)"
      ]
     },
     "execution_count": 13,
     "metadata": {},
     "output_type": "execute_result"
    }
   ],
   "source": [
    "H.shape"
   ]
  },
  {
   "cell_type": "markdown",
   "id": "5eb73385",
   "metadata": {},
   "source": [
    "The columns of the W matrix is shown for the first 200 genes. As mentioned before, the columns indicate the basis/rank of the decomposition and they are also non-negative. Each of the columns can be used to group the genes such that the genes within a group contribute to idiosyncratic fashion in which that group might behave across the samples. A higher value in a row for a given column indicate a higher contribution of the corresponding gene towards the signature activity pattern of that group of genes associated with the column in consideration. We can explore the behaviour of a particular group of genes by analyzing the corresponding row in the H matrix. We will postpone such exploration of the H matrix for later when we find a better decomposition in terms of the ability of the decomposition to capture the sparse features present in the expression data in a better light. "
   ]
  },
  {
   "cell_type": "code",
   "execution_count": 16,
   "id": "0ad52a5f",
   "metadata": {},
   "outputs": [
    {
     "data": {
      "image/png": "[encoded data removed]",
      "text/plain": [
       "<Figure size 288x1152 with 2 Axes>"
      ]
     },
     "metadata": {
      "needs_background": "light"
     },
     "output_type": "display_data"
    }
   ],
   "source": [
    "cb = plt.matshow(W[:200,:])\n",
    "plt.colorbar()\n",
    "cb.axes.set_xlabel(\"basis/gene_group\")\n",
    "cb.axes.set_ylabel(\"gene index\")\n",
    "# cb._short_axis().set_visible(True)\n",
    "plt.savefig(\"W_sample.png\",dpi=300, format=\"png\")\n",
    "plt.show()"
   ]
  },
  {
   "cell_type": "code",
   "execution_count": 17,
   "id": "16be1e09",
   "metadata": {},
   "outputs": [
    {
     "data": {
      "image/png": "[encoded data removed]",
      "text/plain": [
       "<Figure size 403.2x288 with 2 Axes>"
      ]
     },
     "metadata": {
      "needs_background": "light"
     },
     "output_type": "display_data"
    }
   ],
   "source": [
    "cb = plt.matshow(H[:,:])\n",
    "plt.colorbar()\n",
    "cb.axes.set_xlabel(\"treatment number\")\n",
    "cb.axes.set_ylabel(\"basis/gene_group\")\n",
    "plt.savefig(\"H_sample.png\",dpi=300, format=\"png\")\n",
    "plt.show()"
   ]
  },
  {
   "cell_type": "markdown",
   "id": "ba5e1304",
   "metadata": {},
   "source": [
    "### Choosing the optimal rank parameter\n",
    "We will run decompositions for a range of rank parameters and choose, based on the estimates of sparseness and reliability, the best one among them. We will continue with this chosen parameter for further analyses.\n",
    "\n",
    "\n",
    "What these parameters are and what do we need from them?\n",
    "\n",
    "rss --> residual sum-of-squares -- The sum of the squares of the deviation of the approximated values from the the original values of the input matrix they are approximating. The lesser the rss, the better. \n",
    "\n",
    "cophenetic correlation --> \n",
    "NMF groups genes into classes that might signal gene-clusters that work as a cohesive unit. But, it could also happen that the classes to which a gene is assigned keep changing as the initial conditions of the numerical algorithm are changed. Cophenetic correlarion measures this robustness of the groups gleaned from multiple runs of the NMF method. A cophenetic correlation close to 1 implies a gene-group assignment that withstands the assault of initial-condition changes. This can boost the confidence in the biological relevance of the group-assignment. A cophenetic correlation close to zero on the other hand either signals the presence of poor group assignments of the algorithm, which could be improved by changing the rank parameter, or a lack of structure in the expression data.\n",
    "\n",
    "dispersion -->              \n",
    "\n",
    "sparseness -->\n",
    "\n",
    "explained variance -->"
   ]
  },
  {
   "cell_type": "code",
   "execution_count": 18,
   "id": "ae5ad54f",
   "metadata": {},
   "outputs": [],
   "source": [
    "## range of rank parameters -- [3, 8, 13, 18, 23, 28]\n",
    "rank_cands = range(3, 30, 5)\n",
    "## Model specification\n",
    "snmf = nimfa.Snmf(d_aba, seed='random_vcol', max_iter=100, version='l', beta=0.01)\n",
    "## Running the function to estimate the qualities for a range of rank parameters  \n",
    "summary = snmf.estimate_rank(rank_range=rank_cands, n_run=10, what='all')"
   ]
  },
  {
   "cell_type": "code",
   "execution_count": 19,
   "id": "6a9d262c",
   "metadata": {},
   "outputs": [],
   "source": [
    "# help(plt.savefig)"
   ]
  },
  {
   "cell_type": "code",
   "execution_count": 23,
   "id": "4739c95b",
   "metadata": {},
   "outputs": [
    {
     "data": {
      "text/plain": [
       "Text(0.5, 0, 'Rank')"
      ]
     },
     "execution_count": 23,
     "metadata": {},
     "output_type": "execute_result"
    },
    {
     "data": {
      "image/png": "[encoded data removed]",
      "text/plain": [
       "<Figure size 432x288 with 1 Axes>"
      ]
     },
     "metadata": {
      "needs_background": "light"
     },
     "output_type": "display_data"
    }
   ],
   "source": [
    "## Plotting the measures of quality for all the ranks we used\n",
    "rss = [summary[rank]['rss'] for rank in rank_cands]\n",
    "coph = [summary[rank]['cophenetic'] for rank in rank_cands]\n",
    "disp = [summary[rank]['dispersion'] for rank in rank_cands]\n",
    "spar = [summary[rank]['sparseness'] for rank in rank_cands]\n",
    "spar_w, spar_h = zip(*spar)\n",
    "evar = [summary[rank]['evar'] for rank in rank_cands]\n",
    "\n",
    "plt.plot(rank_cands, rss, 'o-', label='RSS', linewidth=2, color=\"k\")\n",
    "# plt.plot(rank_cands, coph, 'o-', label='Cophenetic correlation', linewidth=2)\n",
    "# plt.plot(rank_cands, disp,'o-', label='Dispersion', linewidth=2, color=\"k\")\n",
    "# plt.plot(rank_cands, spar_w, 'o-', label='Sparsity (Basis)', linewidth=2)\n",
    "# plt.plot(rank_cands, spar_h, 'o-', label='Sparsity (Mixture)', linewidth=2)\n",
    "# plt.plot(rank_cands, evar, 'o-', label='Explained variance', linewidth=2, color=\"k\")\n",
    "plt.legend(loc='upper center', bbox_to_anchor=(0.5, 1.18), ncol=3, numpoints=1);\n",
    "plt.ylabel(\"Explained Variance\")\n",
    "plt.xlabel(\"Rank\")\n",
    "# plt.savefig(\"evar_vs_rank.png\",dpi=300, format=\"png\")"
   ]
  },
  {
   "cell_type": "markdown",
   "id": "3f9b08f3",
   "metadata": {},
   "source": [
    "### NMF Decomposition with the best of the parameters\n",
    "From the quality estimates we have zeroed in on rank 13 as the one that lead to sparse bases with maximum variance explained and minimum amount of errors accrued in approximating the original data matrix. We will run NMF decomposition using this parameter and will analyze the factors we obtained in detail."
   ]
  },
  {
   "cell_type": "code",
   "execution_count": 591,
   "id": "84b7b257",
   "metadata": {},
   "outputs": [],
   "source": [
    "## Model specification \n",
    "rank = 13\n",
    "snmf = nimfa.Snmf(d_aba, rank=rank, seed='random_vcol', version='l', max_iter=100, beta=0.01)\n"
   ]
  },
  {
   "cell_type": "code",
   "execution_count": 592,
   "id": "b98592c4",
   "metadata": {},
   "outputs": [],
   "source": [
    "## Fitting the model\n",
    "snmf_fit = snmf()"
   ]
  },
  {
   "cell_type": "code",
   "execution_count": 507,
   "id": "3822a6b4",
   "metadata": {},
   "outputs": [],
   "source": [
    "## Extracting the W (with basis/gene_group as columns) matrix\n",
    "W = snmf_fit.fit.basis()\n"
   ]
  },
  {
   "cell_type": "code",
   "execution_count": 508,
   "id": "02a038de",
   "metadata": {},
   "outputs": [],
   "source": [
    "## Extracting the H (with rows corresponding to the coeeficients of each basis/gene_group to obtain the treatment columns as a weighted sum of bases. \n",
    "H = snmf_fit.coef()"
   ]
  },
  {
   "cell_type": "markdown",
   "id": "abcc9a42",
   "metadata": {},
   "source": [
    "There is one to one relationship between the columns of the H matrix and the treatment columns of the original matrix. Infact, it would be instructive to view each treatment column as a weighted sum of bases in W. The weights for this sum are provided by the corresponding column of the H matrix. As we have already mentioned, each of the basis vector/column from the W matrix can be used to define a locally prominent gene-groups (the rows with the topmost values in a particular basis in W matrix). If we want to know the treatments to which a given basis/gene-group contributed heavily, we can infer it from glancing at the rows of the H matrix. For example, the basis/gene-group corresponding to the fifth column of the H matrix shown in figure.X rises in its prominence whenever the corresponding column is from one the of ABA treatments. ~This can be easily seen in another version of the same matrix where the columns are re-shuffled to group ABA and no-ABA columns~. One of the enriched gene ontology terms in this group of genes is ABA signalling validating our insight gained from glancing at the row of H.\n",
    "\n",
    "\n",
    "In another example, the gene-group corresponding to the 10th row of the H matrix is enriched for gene-ontology term \"vegetative-to-reproductive state\" transition. Accordingly the numerical value of the row increases over time and is strongly emphasized at the later time points.\n",
    "\n",
    "\n"
   ]
  },
  {
   "cell_type": "code",
   "execution_count": 509,
   "id": "b820ea1f",
   "metadata": {},
   "outputs": [
    {
     "data": {
      "image/png": "[encoded data removed]",
      "text/plain": [
       "<Figure size 620.308x288 with 2 Axes>"
      ]
     },
     "metadata": {
      "needs_background": "light"
     },
     "output_type": "display_data"
    }
   ],
   "source": [
    "plt.matshow(H[:,:])\n",
    "plt.colorbar()\n",
    "plt.show()"
   ]
  },
  {
   "cell_type": "markdown",
   "id": "260473ba",
   "metadata": {},
   "source": [
    "For better interpretation of the H matrix, we can permute the columns"
   ]
  },
  {
   "cell_type": "code",
   "execution_count": 541,
   "id": "b1998037",
   "metadata": {},
   "outputs": [
    {
     "name": "stdout",
     "output_type": "stream",
     "text": [
      "[0, 14, 2, 16, 4, 18, 6, 20, 8, 22, 10, 24, 12, 26]\n",
      "[1, 15, 3, 17, 5, 19, 7, 21, 9, 23, 11, 25, 13, 27]\n",
      "[0, 14, 2, 16, 4, 18, 6, 20, 8, 22, 10, 24, 12, 26, 1, 15, 3, 17, 5, 19, 7, 21, 9, 23, 11, 25, 13, 27]\n"
     ]
    }
   ],
   "source": [
    "aba_ind = list(range(0,28,2)) \n",
    "no_aba_ind = list(range(1,28,2))\n",
    "a_ind_f = aba_ind[:int(len(aba_ind)/2)]\n",
    "a_ind_s = aba_ind[int(len(aba_ind)/2):]\n",
    "em = []\n",
    "for i,j in zip(a_ind_f,a_ind_s):\n",
    "    em.extend([i,j])\n",
    "aba_ind = em\n",
    "\n",
    "na_ind_f = no_aba_ind[:int(len(no_aba_ind)/2)]\n",
    "na_ind_s = no_aba_ind[int(len(no_aba_ind)/2):]\n",
    "em = []\n",
    "for i,j in zip(na_ind_f,na_ind_s):\n",
    "    em.extend([i,j])\n",
    "no_aba_ind = em\n",
    "\n",
    "print(aba_ind)\n",
    "print(no_aba_ind)\n",
    "new_ind = aba_ind\n",
    "new_ind.extend(no_aba_ind)\n",
    "print(new_ind)"
   ]
  },
  {
   "cell_type": "markdown",
   "id": "560fdf3f",
   "metadata": {},
   "source": [
    "Early Response \n",
    "\n",
    "The cluster to which the sample are assigned"
   ]
  },
  {
   "cell_type": "code",
   "execution_count": null,
   "id": "dc66ed20",
   "metadata": {},
   "outputs": [],
   "source": []
  },
  {
   "cell_type": "code",
   "execution_count": 542,
   "id": "e3fc2499",
   "metadata": {},
   "outputs": [],
   "source": [
    "H_new = H[:,new_ind]"
   ]
  },
  {
   "cell_type": "code",
   "execution_count": 590,
   "id": "d67423ec",
   "metadata": {},
   "outputs": [
    {
     "data": {
      "image/png": "[encoded data removed]",
      "text/plain": [
       "<Figure size 620.308x288 with 2 Axes>"
      ]
     },
     "metadata": {
      "needs_background": "light"
     },
     "output_type": "display_data"
    },
    {
     "name": "stdout",
     "output_type": "stream",
     "text": [
      "(array([0]), array([10]))\n",
      "(array([0]), array([10]))\n",
      "(array([0]), array([12]))\n",
      "(array([0]), array([3]))\n",
      "(array([0]), array([12]))\n",
      "(array([0]), array([3]))\n",
      "(array([0]), array([12]))\n",
      "(array([0]), array([0]))\n",
      "(array([0]), array([9]))\n",
      "(array([0]), array([9]))\n",
      "(array([0]), array([9]))\n",
      "(array([0]), array([9]))\n",
      "(array([0]), array([9]))\n",
      "(array([0]), array([9]))\n",
      "(array([0]), array([10]))\n",
      "(array([0]), array([10]))\n",
      "(array([0]), array([3]))\n",
      "(array([0]), array([10]))\n",
      "(array([0]), array([3]))\n",
      "(array([0]), array([3]))\n",
      "(array([0]), array([1]))\n",
      "(array([0]), array([1]))\n",
      "(array([0]), array([4]))\n",
      "(array([0]), array([4]))\n",
      "(array([0]), array([4]))\n",
      "(array([0]), array([4]))\n",
      "(array([0]), array([4]))\n",
      "(array([0]), array([4]))\n"
     ]
    }
   ],
   "source": [
    "W_ne = snmf_fit.fit.basis()\n",
    "H_ne = snmf_fit.coef()\n",
    "plt.matshow(H_ne[:,new_ind])\n",
    "plt.colorbar()\n",
    "plt.show()\n",
    "for column in H_ne.T:\n",
    "    print(np.where(column==np.max(column)))"
   ]
  },
  {
   "cell_type": "code",
   "execution_count": 543,
   "id": "ea522c97",
   "metadata": {},
   "outputs": [
    {
     "data": {
      "image/png": "[encoded data removed]",
      "text/plain": [
       "<Figure size 620.308x288 with 2 Axes>"
      ]
     },
     "metadata": {
      "needs_background": "light"
     },
     "output_type": "display_data"
    }
   ],
   "source": [
    "plt.matshow(H_new.squeeze())\n",
    "plt.colorbar()\n",
    "plt.show()"
   ]
  },
  {
   "cell_type": "code",
   "execution_count": 544,
   "id": "618c4bd0",
   "metadata": {},
   "outputs": [],
   "source": [
    "genes = df_aba['Unnamed: 0']\n",
    "\n",
    "gene2id = {gene: idx for idx, gene in enumerate(genes)}\n",
    "id2gene = dict(zip(gene2id.values(), gene2id.keys()))\n"
   ]
  },
  {
   "cell_type": "code",
   "execution_count": 545,
   "id": "185f42d5",
   "metadata": {},
   "outputs": [
    {
     "data": {
      "image/png": "[encoded data removed]",
      "text/plain": [
       "<Figure size 648x648 with 1 Axes>"
      ]
     },
     "metadata": {
      "needs_background": "light"
     },
     "output_type": "display_data"
    }
   ],
   "source": [
    "## Using the labels subset the original dataframe with raw expression data and plot them to check if indeed they express differently with ABA\n",
    "#labels\n",
    "new_labels = ['AT1G51270']\n",
    "df_to_plot = df_aba[df_aba[\"Unnamed: 0\"].isin(new_labels)]\n",
    "df_to_plot_drop = df_to_plot.drop(columns=df_aba.columns[0])\n",
    "ax = df_to_plot_drop.T.plot(figsize=(9,9))\n"
   ]
  },
  {
   "cell_type": "code",
   "execution_count": 546,
   "id": "8546776d",
   "metadata": {},
   "outputs": [],
   "source": [
    "\n",
    "def common_nmfBasis_pcs(basis_num, pc_num, top_k=500):\n",
    "    file = open(\"pc{}_gene_list.txt\".format(pc_num),\"r\")\n",
    "    list_target = file.readlines()\n",
    "    file.close()\n",
    "    list_target_strp = []\n",
    "    for ele in list_target:\n",
    "        list_target_strp.append(ele.strip())\n",
    "\n",
    "    c = basis_num\n",
    "    k = top_k\n",
    "    topk = np.argsort(np.asarray(W[:, c]).flatten())[-k:]\n",
    "    labels = [id2gene[idx] for idx in topk]\n",
    "    common_nmf_pc = set(list_target_strp) & set(labels)\n",
    "    fN = open(\"common_pc_{}_basisNum_{}.txt\".format(pc_num, basis_num),\"w\")\n",
    "    for gen in common_nmf_pc:\n",
    "        fN.write(gen)\n",
    "        fN.write(\"\\n\")\n",
    "    fN.close()\n",
    "    return "
   ]
  },
  {
   "cell_type": "code",
   "execution_count": 443,
   "id": "16626625",
   "metadata": {},
   "outputs": [],
   "source": [
    "common_nmfBasis_pcs(3,6)"
   ]
  },
  {
   "cell_type": "code",
   "execution_count": 547,
   "id": "02cad212",
   "metadata": {},
   "outputs": [],
   "source": [
    "diction_to_save = {\"rank_cands\":rank_cands, \"rss\":rss, \"coph\":coph, \n",
    "                   \"disp\":disp, \"spar_w\":spar_w, \"spar_h\":spar_h,\n",
    "                   \"evar\":evar, \"best_rank\":13, \"best_W\":W, \"best_H\":H}"
   ]
  },
  {
   "cell_type": "code",
   "execution_count": null,
   "id": "6d479bb1",
   "metadata": {},
   "outputs": [],
   "source": [
    "# import numpy as np\n",
    "\n",
    "# # Save\n",
    "# dictionary = {'hello':'world'}\n",
    "# np.save('my_file.npy', dictionary) \n",
    "\n",
    "# # Load\n",
    "# read_dictionary = np.load('my_file.npy',allow_pickle='TRUE').item()\n",
    "# print(read_dictionary['hello']) # displays \"world\""
   ]
  },
  {
   "cell_type": "code",
   "execution_count": 548,
   "id": "f433e3ff",
   "metadata": {},
   "outputs": [],
   "source": [
    "import numpy as np\n",
    "\n",
    "# Save\n",
    "np.save('NMF_ABA_timeEvolve_summary_and_WH.npy', diction_to_save) "
   ]
  },
  {
   "cell_type": "code",
   "execution_count": 551,
   "id": "910d923d",
   "metadata": {},
   "outputs": [],
   "source": [
    "def write_top_genes_to_file(basis_num, top_k):\n",
    "    c = basis_num\n",
    "    k = top_k\n",
    "\n",
    "    topk = np.argsort(np.asarray(W[:, c]).flatten())[-k:]\n",
    "    val = W[topk, c]\n",
    "    # val.squeeze().shape\n",
    "    # val[:,0]\n",
    "\n",
    "    #print([float(x) for x in val])\n",
    "\n",
    "    #plt.barh(np.arange(k) + .5, [float(x) for x in val], align=\"center\")\n",
    "    # labels = [id2gene[idx] for idx in topk]\n",
    "    # plt.yticks(np.arange(k) + .5, labels)\n",
    "    # plt.xlabel(\"Weight\")\n",
    "    # plt.ylabel(\"Gene\");\n",
    "    labels = [id2gene[idx] for idx in topk]\n",
    "    # plt.yticks(np.arange(k) + .5, labels)\n",
    "    # plt.xlabel(\"Weight\")\n",
    "    # plt.ylabel(\"Gene\");\n",
    "    fN = \"gene_basis_{}_top{}.txt\".format(c,k)\n",
    "    fileObj = open(fN, \"w\")\n",
    "    for ele in labels:\n",
    "        fileObj.write(ele)\n",
    "        fileObj.write(\"\\n\")\n",
    "    fileObj.close()\n",
    "    print(\"Written to file {}\".format(fN))"
   ]
  },
  {
   "cell_type": "code",
   "execution_count": 552,
   "id": "a304630b",
   "metadata": {},
   "outputs": [
    {
     "name": "stdout",
     "output_type": "stream",
     "text": [
      "Written to file gene_basis_0_top400.txt\n",
      "Written to file gene_basis_1_top400.txt\n",
      "Written to file gene_basis_2_top400.txt\n",
      "Written to file gene_basis_3_top400.txt\n",
      "Written to file gene_basis_4_top400.txt\n",
      "Written to file gene_basis_5_top400.txt\n",
      "Written to file gene_basis_6_top400.txt\n",
      "Written to file gene_basis_7_top400.txt\n",
      "Written to file gene_basis_8_top400.txt\n",
      "Written to file gene_basis_9_top400.txt\n",
      "Written to file gene_basis_10_top400.txt\n",
      "Written to file gene_basis_11_top400.txt\n",
      "Written to file gene_basis_12_top400.txt\n"
     ]
    }
   ],
   "source": [
    "l_bnum = list(range(0,13))\n",
    "top_k = 400\n",
    "\n",
    "for basis_num in l_bnum:\n",
    "    write_top_genes_to_file(basis_num, top_k)\n"
   ]
  },
  {
   "cell_type": "code",
   "execution_count": 232,
   "id": "8f83f82c",
   "metadata": {},
   "outputs": [],
   "source": [
    "rank = 13\n",
    "nmf = nimfa.Snmf(d_aba, rank=rank, seed='random_vcol', max_iter = 200, n_run=50, track_factor=True, consensus=True, version='l')\n",
    "nmf_fit = nmf()\n"
   ]
  },
  {
   "cell_type": "markdown",
   "id": "d2172e59",
   "metadata": {},
   "source": [
    "\n",
    "### The later time-point samples can be distinguished reliably from gene-group activity patterns \n",
    "\n",
    "The H matrix factor we got from the NMF factorization can be used to group or cluster the samples. But, The NMF is sensitive to changes in initial conditions and thus can lead to different factorization approximations on each run. Thus, a consistent group identity throughout these run would imply an inherent activity of genes most likely to influence the behaviour across the samples in the group. We are interested in arriving at such biologically relevant sample-clusters, i.e, sample-clusters defined by predominance of certain gene-groups that exclusively underpin the response/phenotype in those samples. \n",
    "\n",
    "The sample clusters that are robust to initial condition changes can be inferred from a summary of group identities as reflected in a consensus matrix shown in Fig.X. Here, the samples that stick together are grouped using hierarchical clustering  \n",
    "The clustering achieved via multiple runs of the NMF algorith for different intial conditions show that the samples taken at a later time point (at 12,24 and 60 hours) tend to cluster very reliably. \n",
    "\n",
    "How does NMF cluster samples? and what does it tell us?\n",
    "\n",
    "\n"
   ]
  },
  {
   "cell_type": "code",
   "execution_count": 233,
   "id": "32c1fa08",
   "metadata": {},
   "outputs": [
    {
     "name": "stderr",
     "output_type": "stream",
     "text": [
      "/tmp/ipykernel_45158/1438619510.py:11: ClusterWarning: scipy.cluster: The symmetric non-negative hollow observation matrix looks suspiciously like an uncondensed distance matrix\n",
      "  Y = sch.linkage(C, method='average')\n"
     ]
    },
    {
     "data": {
      "image/png": "[encoded data removed]",
      "text/plain": [
       "<Figure size 1000.8x720 with 3 Axes>"
      ]
     },
     "metadata": {
      "needs_background": "light"
     },
     "output_type": "display_data"
    }
   ],
   "source": [
    "def clean_axis(ax):\n",
    "    ax.get_xaxis().set_ticks([])\n",
    "    ax.get_yaxis().set_ticks([])\n",
    "    for sp in ax.spines.values():\n",
    "        sp.set_visible(False)\n",
    "\n",
    "fig = plt.figure(figsize=(13.9, 10))\n",
    "heatmapGS = gridspec.GridSpec(1, 2, wspace=.01, hspace=0., width_ratios=[0.25,1])\n",
    "\n",
    "C = 1 - nmf_fit.fit.consensus()\n",
    "Y = sch.linkage(C, method='average')\n",
    "\n",
    "denAX = fig.add_subplot(heatmapGS[0,0])\n",
    "denD = sch.dendrogram(Y, orientation='left', link_color_func=lambda k: 'black')\n",
    "clean_axis(denAX)\n",
    "\n",
    "heatmapAX = fig.add_subplot(heatmapGS[0,1])\n",
    "D = C[denD['leaves'], :][:, denD['leaves']]\n",
    "axi = heatmapAX.imshow(D, interpolation='nearest', aspect='equal', origin='lower', cmap='RdBu') \n",
    "clean_axis(heatmapAX)\n",
    "\n",
    "cb = fig.colorbar(axi, fraction=0.046, pad=0.04, aspect=10) \n",
    "cb.set_label('Distance', fontsize=20)"
   ]
  },
  {
   "cell_type": "code",
   "execution_count": 27,
   "id": "3a88a06f",
   "metadata": {},
   "outputs": [],
   "source": [
    "# denD"
   ]
  },
  {
   "cell_type": "code",
   "execution_count": 25,
   "id": "c0e196a8",
   "metadata": {},
   "outputs": [],
   "source": [
    "# from goatools import obo_parser"
   ]
  },
  {
   "cell_type": "code",
   "execution_count": 24,
   "id": "503d6397",
   "metadata": {},
   "outputs": [],
   "source": [
    "# !pip install wget"
   ]
  },
  {
   "cell_type": "code",
   "execution_count": 28,
   "id": "a68434f6",
   "metadata": {},
   "outputs": [],
   "source": [
    "# import wget \n",
    "# import os \n",
    "# import gzip\n",
    "# import Bio.UniProt.GOA as GOA\n",
    "# from goatools.go_enrichment import GOEnrichmentStudy\n",
    "# from goatools.godag_plot import plot_gos, plot_results, plot_goid2goobj\n",
    "# from IPython.display import Image"
   ]
  },
  {
   "cell_type": "code",
   "execution_count": 29,
   "id": "14ca2700",
   "metadata": {},
   "outputs": [],
   "source": [
    "# go_obo_url = \"http://purl.obolibrary.org/obo/go/go-basic.obo\"\n",
    "# data_folder = os.getcwd() + \"/data\""
   ]
  },
  {
   "cell_type": "code",
   "execution_count": 30,
   "id": "ed16e9bb",
   "metadata": {},
   "outputs": [],
   "source": [
    "# from goatools.obo_parser import GODag\n",
    "# obodag = GODag(\"data/go-basic.obo\")\n",
    "            "
   ]
  },
  {
   "cell_type": "code",
   "execution_count": 31,
   "id": "5be5c5f2",
   "metadata": {},
   "outputs": [],
   "source": [
    "# arab_uri = \"http://current.geneontology.org/annotations/tair.gaf.gz\"\n",
    "# arab_fn = arab_uri.split('/')[-1]\n",
    "# wget.download(arab_uri, os.path.join(data_folder,arab_fn))"
   ]
  },
  {
   "cell_type": "code",
   "execution_count": 32,
   "id": "57f0fc8a",
   "metadata": {},
   "outputs": [],
   "source": [
    "# arab_gaf = os.path.join(data_folder, arab_fn)\n",
    "# with gzip.open(arab_gaf, 'rt') as arab_gaf_fp:\n",
    "#     arab_funcs = {}  # Initialise the dictionary of functions\n",
    "    \n",
    "#     # Iterate on each function using Bio.UniProt.GOA library.\n",
    "#     for entry in GOA.gafiterator(arab_gaf_fp):\n",
    "#         #print(entry)\n",
    "#         tair_id = entry.pop('DB_Object_ID')\n",
    "#         arab_funcs[tair_id] = entry"
   ]
  },
  {
   "cell_type": "code",
   "execution_count": 33,
   "id": "807217a7",
   "metadata": {},
   "outputs": [],
   "source": [
    "# assoc = {}\n",
    "\n",
    "# for x in arab_funcs:\n",
    "#     if x not in assoc:\n",
    "#         assoc[x] = set()\n",
    "#     assoc[x].add(str(arab_funcs[x]['GO_ID']))"
   ]
  },
  {
   "cell_type": "code",
   "execution_count": 34,
   "id": "0e4070db",
   "metadata": {},
   "outputs": [],
   "source": [
    "\n",
    "# goeaobj = GOEnrichmentStudy(\n",
    "#         arab_funcs.keys(), # List of mouse protein-coding genes\n",
    "#         assoc, # geneid/GO associations\n",
    "#         obodag, # Ontologies\n",
    "#         propagate_counts = False,\n",
    "#         alpha = 0.05, # default significance cut-off\n",
    "#         methods = [\"bonferroni\"]) # defult multipletest correction method"
   ]
  },
  {
   "cell_type": "code",
   "execution_count": 35,
   "id": "de8c449f",
   "metadata": {},
   "outputs": [],
   "source": [
    "# goea_results_all = goeaobj.run_study(labels)"
   ]
  },
  {
   "cell_type": "code",
   "execution_count": 36,
   "id": "5d0447aa",
   "metadata": {},
   "outputs": [],
   "source": [
    "# #r = goea_results_all[0]\n",
    "# #dir(r)\n",
    "# goea_results_sig = [r for r in goea_results_all if r.p_bonferroni < 0.05]"
   ]
  },
  {
   "cell_type": "code",
   "execution_count": 37,
   "id": "3f52bed8",
   "metadata": {},
   "outputs": [],
   "source": [
    "# plot_results(\"nbt3102_{NS}.png\", goea_results_sig)"
   ]
  },
  {
   "cell_type": "code",
   "execution_count": 38,
   "id": "884c4dd7",
   "metadata": {},
   "outputs": [],
   "source": [
    "# Image(\"nbt3102_BP.png\")"
   ]
  },
  {
   "cell_type": "code",
   "execution_count": 39,
   "id": "4ae897c8",
   "metadata": {},
   "outputs": [],
   "source": [
    "# help(GOEnrichmentStudy)"
   ]
  }
 ],
 "metadata": {
  "kernelspec": {
   "display_name": "Python 3 (ipykernel)",
   "language": "python",
   "name": "python3"
  },
  "language_info": {
   "codemirror_mode": {
    "name": "ipython",
    "version": 3
   },
   "file_extension": ".py",
   "mimetype": "text/x-python",
   "name": "python",
   "nbconvert_exporter": "python",
   "pygments_lexer": "ipython3",
   "version": "3.9.12"
  }
 },
 "nbformat": 4,
 "nbformat_minor": 5
}
